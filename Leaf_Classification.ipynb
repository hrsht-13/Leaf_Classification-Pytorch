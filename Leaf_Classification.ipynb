{
  "nbformat": 4,
  "nbformat_minor": 0,
  "metadata": {
    "colab": {
      "name": "Leaf_Classification.ipynb",
      "provenance": []
    },
    "kernelspec": {
      "name": "python3",
      "display_name": "Python 3"
    },
    "accelerator": "GPU"
  },
  "cells": [
    {
      "cell_type": "markdown",
      "metadata": {
        "id": "HjBoD7R_cM91",
        "colab_type": "text"
      },
      "source": [
        "### Unzipping the files"
      ]
    },
    {
      "cell_type": "code",
      "metadata": {
        "id": "P5QC5NTA1q3n",
        "colab_type": "code",
        "colab": {
          "base_uri": "https://localhost:8080/",
          "height": 50
        },
        "outputId": "c0129c9b-a152-4c9b-9607-27ddc4d479f6"
      },
      "source": [
        "!unzip \"/content/drive/My Drive/Participants_Data_cvdc2020.zip\""
      ],
      "execution_count": 55,
      "outputs": [
        {
          "output_type": "stream",
          "text": [
            "Archive:  /content/drive/My Drive/Participants_Data_cvdc2020.zip\n",
            "replace __MACOSX/._Participants_Data_cvdc2020? [y]es, [n]o, [A]ll, [N]one, [r]ename: "
          ],
          "name": "stdout"
        }
      ]
    },
    {
      "cell_type": "code",
      "metadata": {
        "id": "3eaKxrbkattf",
        "colab_type": "code",
        "colab": {
          "base_uri": "https://localhost:8080/",
          "height": 134
        },
        "outputId": "0c06358a-b13c-4df9-efc9-ad97d9e4931d"
      },
      "source": [
        "!wget -c https://raw.githubusercontent.com/udacity/deep-learning-v2-pytorch/master/intro-to-pytorch/helper.py\n"
      ],
      "execution_count": 27,
      "outputs": [
        {
          "output_type": "stream",
          "text": [
            "--2020-09-20 20:07:02--  https://raw.githubusercontent.com/udacity/deep-learning-v2-pytorch/master/intro-to-pytorch/helper.py\n",
            "Resolving raw.githubusercontent.com (raw.githubusercontent.com)... 151.101.0.133, 151.101.64.133, 151.101.128.133, ...\n",
            "Connecting to raw.githubusercontent.com (raw.githubusercontent.com)|151.101.0.133|:443... connected.\n",
            "HTTP request sent, awaiting response... 416 Range Not Satisfiable\n",
            "\n",
            "    The file is already fully retrieved; nothing to do.\n",
            "\n"
          ],
          "name": "stdout"
        }
      ]
    },
    {
      "cell_type": "markdown",
      "metadata": {
        "id": "dGihlytLbqBO",
        "colab_type": "text"
      },
      "source": [
        "### Importation-1\n",
        "\n"
      ]
    },
    {
      "cell_type": "code",
      "metadata": {
        "id": "yVCSoEIM176W",
        "colab_type": "code",
        "colab": {}
      },
      "source": [
        "from __future__ import print_function, division\n",
        "import os\n",
        "import torch\n",
        "import pandas as pd\n",
        "from skimage import io, transform\n",
        "import numpy as np\n",
        "import matplotlib.pyplot as plt\n",
        "from torch.utils.data import Dataset, DataLoader\n",
        "from torchvision import transforms, utils\n",
        "\n",
        "import matplotlib.pyplot as plt\n",
        "import helper"
      ],
      "execution_count": 28,
      "outputs": []
    },
    {
      "cell_type": "code",
      "metadata": {
        "id": "rAlzYHPX66Ys",
        "colab_type": "code",
        "colab": {
          "base_uri": "https://localhost:8080/",
          "height": 84
        },
        "outputId": "139c2980-7a72-4cdc-8843-45f01cc296fd"
      },
      "source": [
        "pip install torchdata"
      ],
      "execution_count": 29,
      "outputs": [
        {
          "output_type": "stream",
          "text": [
            "Requirement already satisfied: torchdata in /usr/local/lib/python3.6/dist-packages (0.2.0)\n",
            "Requirement already satisfied: torch>=1.2.0 in /usr/local/lib/python3.6/dist-packages (from torchdata) (1.6.0+cu101)\n",
            "Requirement already satisfied: future in /usr/local/lib/python3.6/dist-packages (from torch>=1.2.0->torchdata) (0.16.0)\n",
            "Requirement already satisfied: numpy in /usr/local/lib/python3.6/dist-packages (from torch>=1.2.0->torchdata) (1.18.5)\n"
          ],
          "name": "stdout"
        }
      ]
    },
    {
      "cell_type": "markdown",
      "metadata": {
        "id": "RIbq-kSsaTBx",
        "colab_type": "text"
      },
      "source": [
        "### Dataset"
      ]
    },
    {
      "cell_type": "code",
      "metadata": {
        "id": "PvUK6CrJ3mSO",
        "colab_type": "code",
        "colab": {}
      },
      "source": [
        "df=pd.read_csv(\"/content/Participants_Data_cvdc2020/Train.csv\")"
      ],
      "execution_count": 30,
      "outputs": []
    },
    {
      "cell_type": "code",
      "metadata": {
        "id": "aYWbq4jkBOrd",
        "colab_type": "code",
        "colab": {
          "base_uri": "https://localhost:8080/",
          "height": 34
        },
        "outputId": "af4d2b9e-7f95-46aa-bc7b-d299b188b1ab"
      },
      "source": [
        "len(df)"
      ],
      "execution_count": 31,
      "outputs": [
        {
          "output_type": "execute_result",
          "data": {
            "text/plain": [
              "10803"
            ]
          },
          "metadata": {
            "tags": []
          },
          "execution_count": 31
        }
      ]
    },
    {
      "cell_type": "markdown",
      "metadata": {
        "id": "vmyy4RruaY66",
        "colab_type": "text"
      },
      "source": [
        "### LabelEncoding Target"
      ]
    },
    {
      "cell_type": "code",
      "metadata": {
        "id": "qfeUMc2I96tp",
        "colab_type": "code",
        "colab": {}
      },
      "source": [
        "from sklearn.preprocessing import LabelEncoder\n",
        "lb=LabelEncoder()\n",
        "df[\"value\"]=lb.fit_transform(df.species)"
      ],
      "execution_count": 32,
      "outputs": []
    },
    {
      "cell_type": "code",
      "metadata": {
        "id": "McpuTjLyVMYP",
        "colab_type": "code",
        "colab": {
          "base_uri": "https://localhost:8080/",
          "height": 195
        },
        "outputId": "f2c52bec-e3a4-424f-bc8f-db23e92938a1"
      },
      "source": [
        "df.head()"
      ],
      "execution_count": 33,
      "outputs": [
        {
          "output_type": "execute_result",
          "data": {
            "text/html": [
              "<div>\n",
              "<style scoped>\n",
              "    .dataframe tbody tr th:only-of-type {\n",
              "        vertical-align: middle;\n",
              "    }\n",
              "\n",
              "    .dataframe tbody tr th {\n",
              "        vertical-align: top;\n",
              "    }\n",
              "\n",
              "    .dataframe thead th {\n",
              "        text-align: right;\n",
              "    }\n",
              "</style>\n",
              "<table border=\"1\" class=\"dataframe\">\n",
              "  <thead>\n",
              "    <tr style=\"text-align: right;\">\n",
              "      <th></th>\n",
              "      <th>file_id</th>\n",
              "      <th>species</th>\n",
              "      <th>file_name</th>\n",
              "      <th>value</th>\n",
              "    </tr>\n",
              "  </thead>\n",
              "  <tbody>\n",
              "    <tr>\n",
              "      <th>0</th>\n",
              "      <td>55502</td>\n",
              "      <td>Abies concolor</td>\n",
              "      <td>55502.jpg</td>\n",
              "      <td>0</td>\n",
              "    </tr>\n",
              "    <tr>\n",
              "      <th>1</th>\n",
              "      <td>55510</td>\n",
              "      <td>Abies concolor</td>\n",
              "      <td>55510.jpg</td>\n",
              "      <td>0</td>\n",
              "    </tr>\n",
              "    <tr>\n",
              "      <th>2</th>\n",
              "      <td>55515</td>\n",
              "      <td>Abies concolor</td>\n",
              "      <td>55515.jpg</td>\n",
              "      <td>0</td>\n",
              "    </tr>\n",
              "    <tr>\n",
              "      <th>3</th>\n",
              "      <td>55516</td>\n",
              "      <td>Abies concolor</td>\n",
              "      <td>55516.jpg</td>\n",
              "      <td>0</td>\n",
              "    </tr>\n",
              "    <tr>\n",
              "      <th>4</th>\n",
              "      <td>55517</td>\n",
              "      <td>Abies concolor</td>\n",
              "      <td>55517.jpg</td>\n",
              "      <td>0</td>\n",
              "    </tr>\n",
              "  </tbody>\n",
              "</table>\n",
              "</div>"
            ],
            "text/plain": [
              "   file_id         species  file_name  value\n",
              "0    55502  Abies concolor  55502.jpg      0\n",
              "1    55510  Abies concolor  55510.jpg      0\n",
              "2    55515  Abies concolor  55515.jpg      0\n",
              "3    55516  Abies concolor  55516.jpg      0\n",
              "4    55517  Abies concolor  55517.jpg      0"
            ]
          },
          "metadata": {
            "tags": []
          },
          "execution_count": 33
        }
      ]
    },
    {
      "cell_type": "markdown",
      "metadata": {
        "id": "dGo_bxVwaeBn",
        "colab_type": "text"
      },
      "source": [
        "### Train-Val split"
      ]
    },
    {
      "cell_type": "code",
      "metadata": {
        "id": "d2clqRYGIPVa",
        "colab_type": "code",
        "colab": {}
      },
      "source": [
        "from sklearn.model_selection import train_test_split\n",
        "train,val=train_test_split(df,test_size=0.33,stratify=df.value)"
      ],
      "execution_count": 34,
      "outputs": []
    },
    {
      "cell_type": "code",
      "metadata": {
        "id": "51WGpYdmJF4h",
        "colab_type": "code",
        "colab": {
          "base_uri": "https://localhost:8080/",
          "height": 34
        },
        "outputId": "233412f8-737f-49e1-d805-57f407daca07"
      },
      "source": [
        "len(train), len(val)"
      ],
      "execution_count": 9,
      "outputs": [
        {
          "output_type": "execute_result",
          "data": {
            "text/plain": [
              "(7238, 3565)"
            ]
          },
          "metadata": {
            "tags": []
          },
          "execution_count": 9
        }
      ]
    },
    {
      "cell_type": "code",
      "metadata": {
        "id": "yaBr6jgNJKUc",
        "colab_type": "code",
        "colab": {}
      },
      "source": [
        "train.to_csv(\"train.csv\",index=False)\n",
        "val.to_csv(\"val.csv\",index=False)"
      ],
      "execution_count": 10,
      "outputs": []
    },
    {
      "cell_type": "markdown",
      "metadata": {
        "id": "UF25sXhzah-o",
        "colab_type": "text"
      },
      "source": [
        "### Dataset--> Dataframe--> Dictionary of Image and Target value"
      ]
    },
    {
      "cell_type": "code",
      "metadata": {
        "id": "iGCRDtbX9tB4",
        "colab_type": "code",
        "colab": {}
      },
      "source": [
        "class FaceLandmarksDataset(Dataset):\n",
        "    \"\"\"Face Landmarks dataset.\"\"\"\n",
        "\n",
        "    def __init__(self, csv_file, root_dir, transform=None):\n",
        "        \"\"\"\n",
        "        Args:\n",
        "            csv_file (string): Path to the csv file with annotations.\n",
        "            root_dir (string): Directory with all the images.\n",
        "            transform (callable, optional): Optional transform to be applied\n",
        "                on a sample.\n",
        "        \"\"\"\n",
        "        self.dataframe = pd.read_csv(csv_file)\n",
        "        self.root_dir = root_dir\n",
        "        self.transform = transform\n",
        "\n",
        "    def __len__(self):\n",
        "        return len(self.dataframe)\n",
        "\n",
        "    def __getitem__(self, idx):\n",
        "        if torch.is_tensor(idx):\n",
        "            idx = idx.tolist()\n",
        "\n",
        "        img_name = os.path.join(self.root_dir,\n",
        "                                self.dataframe.iloc[idx, 2])\n",
        "        image = io.imread(img_name)\n",
        "        label = self.dataframe.iloc[idx, 3]\n",
        "        if self.transform:\n",
        "            image = self.transform(image)\n",
        "        sample = {'image': image, 'target': label}\n",
        "\n",
        "        \n",
        "\n",
        "        return sample"
      ],
      "execution_count": 11,
      "outputs": []
    },
    {
      "cell_type": "markdown",
      "metadata": {
        "id": "QfJCnVfga8Ji",
        "colab_type": "text"
      },
      "source": [
        "### Sample Image without Transformations"
      ]
    },
    {
      "cell_type": "code",
      "metadata": {
        "id": "hLO0iFYA_1Gh",
        "colab_type": "code",
        "colab": {
          "base_uri": "https://localhost:8080/",
          "height": 302
        },
        "outputId": "728ed961-185d-4ed1-fe47-e4871b5e006d"
      },
      "source": [
        "face_dataset = FaceLandmarksDataset(csv_file='/content/train.csv',\n",
        "                                    root_dir='/content/Participants_Data_cvdc2020/Train')\n",
        "sample = face_dataset[200]\n",
        "print(4, sample['image'].shape, sample['target'])\n",
        "plt.imshow(sample[\"image\"])"
      ],
      "execution_count": 92,
      "outputs": [
        {
          "output_type": "stream",
          "text": [
            "4 (633, 800, 3) 145\n"
          ],
          "name": "stdout"
        },
        {
          "output_type": "execute_result",
          "data": {
            "text/plain": [
              "<matplotlib.image.AxesImage at 0x7f10f054ac88>"
            ]
          },
          "metadata": {
            "tags": []
          },
          "execution_count": 92
        },
        {
          "output_type": "display_data",
          "data": {
            "image/png": "[encoded data removed]",
            "text/plain": [
              "<Figure size 432x288 with 1 Axes>"
            ]
          },
          "metadata": {
            "tags": [],
            "needs_background": "light"
          }
        }
      ]
    },
    {
      "cell_type": "markdown",
      "metadata": {
        "id": "SML-wn0ebB-c",
        "colab_type": "text"
      },
      "source": [
        "### \"TRANSFORMATIONS\" done on Images"
      ]
    },
    {
      "cell_type": "code",
      "metadata": {
        "id": "bf3w_7UDVo4J",
        "colab_type": "code",
        "colab": {}
      },
      "source": [
        "transformation = transforms.Compose([\n",
        "    transforms.ToPILImage(),\n",
        "    transforms.Resize(300),\n",
        "    transforms.CenterCrop(224), # because this method is used for PIL Image dtype\n",
        "    transforms.ToTensor(),\n",
        "    transforms.Normalize([0.485, 0.456, 0.406], [0.229, 0.224, 0.225]),\n",
        "     # because inpus dtype is PIL Image\n",
        "])"
      ],
      "execution_count": 62,
      "outputs": []
    },
    {
      "cell_type": "markdown",
      "metadata": {
        "id": "dqGum-KUbIIu",
        "colab_type": "text"
      },
      "source": [
        "### Sample Image with Transformations"
      ]
    },
    {
      "cell_type": "code",
      "metadata": {
        "id": "_-DY7ngSXTHj",
        "colab_type": "code",
        "colab": {
          "base_uri": "https://localhost:8080/",
          "height": 298
        },
        "outputId": "acf04d84-3f45-457b-9085-9a60ceec0933"
      },
      "source": [
        "transformed_dataset = FaceLandmarksDataset(csv_file='/content/train.csv',\n",
        "                                    root_dir='/content/Participants_Data_cvdc2020/Train',transform=transformation)\n",
        "sample=transformed_dataset[200]\n",
        "print(4, sample['image'].shape, sample['target'])\n",
        "helper.imshow(sample[\"image\"], normalize=False)"
      ],
      "execution_count": 88,
      "outputs": [
        {
          "output_type": "stream",
          "text": [
            "Clipping input data to the valid range for imshow with RGB data ([0..1] for floats or [0..255] for integers).\n"
          ],
          "name": "stderr"
        },
        {
          "output_type": "stream",
          "text": [
            "4 torch.Size([3, 224, 224]) 145\n"
          ],
          "name": "stdout"
        },
        {
          "output_type": "execute_result",
          "data": {
            "text/plain": [
              "<matplotlib.axes._subplots.AxesSubplot at 0x7f10f025e860>"
            ]
          },
          "metadata": {
            "tags": []
          },
          "execution_count": 88
        },
        {
          "output_type": "display_data",
          "data": {
            "image/png": "[encoded data removed]",
            "text/plain": [
              "<Figure size 432x288 with 1 Axes>"
            ]
          },
          "metadata": {
            "tags": [],
            "needs_background": "light"
          }
        }
      ]
    },
    {
      "cell_type": "markdown",
      "metadata": {
        "id": "51irvDDxbOSl",
        "colab_type": "text"
      },
      "source": [
        "### Creating DataLoader"
      ]
    },
    {
      "cell_type": "code",
      "metadata": {
        "id": "vfMdygCjKZRu",
        "colab_type": "code",
        "colab": {}
      },
      "source": [
        "image_datasets = {x:FaceLandmarksDataset(csv_file=\"/content/\"+x+\".csv\",\n",
        "                                    root_dir='/content/Participants_Data_cvdc2020/Train',transform=transformation)\n",
        "                  for x in ['train', 'val']}"
      ],
      "execution_count": 64,
      "outputs": []
    },
    {
      "cell_type": "code",
      "metadata": {
        "id": "4ezA8uMVKtyp",
        "colab_type": "code",
        "colab": {}
      },
      "source": [
        "dataloaders = {x: DataLoader(image_datasets[x], batch_size=8,\n",
        "                                             shuffle=True, num_workers=0)\n",
        "              for x in ['train', 'val']}"
      ],
      "execution_count": 65,
      "outputs": []
    },
    {
      "cell_type": "code",
      "metadata": {
        "id": "06f0riaqMa1T",
        "colab_type": "code",
        "colab": {}
      },
      "source": [
        "dataset_sizes = {x: len(image_datasets[x]) for x in ['train', 'val']}"
      ],
      "execution_count": 66,
      "outputs": []
    },
    {
      "cell_type": "markdown",
      "metadata": {
        "id": "i7flJqp1bTDt",
        "colab_type": "text"
      },
      "source": [
        "### Sample Image from DataLoader"
      ]
    },
    {
      "cell_type": "code",
      "metadata": {
        "id": "l_W6_UODKt1X",
        "colab_type": "code",
        "colab": {
          "base_uri": "https://localhost:8080/",
          "height": 315
        },
        "outputId": "3d571b5b-48b5-4bcb-ceeb-1b214484347c"
      },
      "source": [
        "images, labels =((next(iter(dataloaders[\"train\"])).values()))\n",
        "helper.imshow(images[6], normalize=False)\n",
        "print(images[6].shape)\n",
        "print(labels[6])\n",
        "(labels)"
      ],
      "execution_count": 90,
      "outputs": [
        {
          "output_type": "stream",
          "text": [
            "Clipping input data to the valid range for imshow with RGB data ([0..1] for floats or [0..255] for integers).\n"
          ],
          "name": "stderr"
        },
        {
          "output_type": "stream",
          "text": [
            "torch.Size([3, 224, 224])\n",
            "tensor(66)\n"
          ],
          "name": "stdout"
        },
        {
          "output_type": "execute_result",
          "data": {
            "text/plain": [
              "tensor([179,  78, 123, 147, 136, 118,  66,  27])"
            ]
          },
          "metadata": {
            "tags": []
          },
          "execution_count": 90
        },
        {
          "output_type": "display_data",
          "data": {
            "image/png": "[encoded data removed]",
            "text/plain": [
              "<Figure size 432x288 with 1 Axes>"
            ]
          },
          "metadata": {
            "tags": [],
            "needs_background": "light"
          }
        }
      ]
    },
    {
      "cell_type": "markdown",
      "metadata": {
        "id": "bOiYm-Bqbia-",
        "colab_type": "text"
      },
      "source": [
        "### Importations-2"
      ]
    },
    {
      "cell_type": "code",
      "metadata": {
        "id": "EKFQe4KUeoLn",
        "colab_type": "code",
        "colab": {}
      },
      "source": [
        "import time\n",
        "import os\n",
        "import copy\n",
        "import torch\n",
        "from torchvision import datasets, transforms,models\n",
        "import matplotlib.pyplot as plt\n",
        "import numpy as np\n",
        "import torchvision\n",
        "from torch import nn\n",
        "from torch import optim\n",
        "from torch.optim import lr_scheduler\n",
        "import helper\n",
        "import pandas as pd\n",
        "import time\n",
        "import os"
      ],
      "execution_count": 69,
      "outputs": []
    },
    {
      "cell_type": "markdown",
      "metadata": {
        "id": "yssHTN0ZbxK1",
        "colab_type": "text"
      },
      "source": [
        "### Selecting Device"
      ]
    },
    {
      "cell_type": "code",
      "metadata": {
        "id": "EnyMhmRC_CRd",
        "colab_type": "code",
        "colab": {}
      },
      "source": [
        "device = torch.device(\"cuda\" if torch.cuda.is_available() else \"cpu\")"
      ],
      "execution_count": 70,
      "outputs": []
    },
    {
      "cell_type": "code",
      "metadata": {
        "id": "s2uNCdP2hqD6",
        "colab_type": "code",
        "colab": {
          "base_uri": "https://localhost:8080/",
          "height": 34
        },
        "outputId": "31aecf44-d464-400c-fc08-58242b043a2a"
      },
      "source": [
        "print(device)"
      ],
      "execution_count": 71,
      "outputs": [
        {
          "output_type": "stream",
          "text": [
            "cuda\n"
          ],
          "name": "stdout"
        }
      ]
    },
    {
      "cell_type": "markdown",
      "metadata": {
        "id": "Cd42QrK9b2kl",
        "colab_type": "text"
      },
      "source": [
        "### MODEL"
      ]
    },
    {
      "cell_type": "code",
      "metadata": {
        "id": "TbTvyqBz_EH0",
        "colab_type": "code",
        "colab": {}
      },
      "source": [
        "model_ft = models.resnet18(pretrained=True)\n",
        "num_ftrs = model_ft.fc.in_features\n",
        "# Here the size of each output sample is set to 2.\n",
        "# Alternatively, it can be generalized to nn.Linear(num_ftrs, len(class_names)).\n",
        "model_ft.fc = nn.Linear(num_ftrs, 185)\n",
        "\n",
        "model_ft.to(device)\n",
        "\n",
        "criterion = nn.CrossEntropyLoss()\n",
        "\n",
        "# Observe that all parameters are being optimized\n",
        "optimizer_ft = optim.SGD(model_ft.parameters(), lr=0.001, momentum=0.9)\n",
        "\n",
        "# Decay LR by a factor of 0.1 every 7 epochs\n",
        "exp_lr_scheduler = lr_scheduler.StepLR(optimizer_ft, step_size=7, gamma=0.1)"
      ],
      "execution_count": 72,
      "outputs": []
    },
    {
      "cell_type": "markdown",
      "metadata": {
        "id": "a3IeeQ_5b5kI",
        "colab_type": "text"
      },
      "source": [
        "### Training Loop"
      ]
    },
    {
      "cell_type": "code",
      "metadata": {
        "id": "PQT_R-Zq_Igq",
        "colab_type": "code",
        "colab": {}
      },
      "source": [
        "def train_model(model, criterion, optimizer, scheduler, num_epochs=25):\n",
        "    since = time.time()\n",
        "\n",
        "    best_model_wts = copy.deepcopy(model.state_dict())\n",
        "    best_acc = 0.0\n",
        "\n",
        "    for epoch in range(num_epochs):\n",
        "        print('Epoch {}/{}'.format(epoch, num_epochs - 1))\n",
        "        print('-' * 10)\n",
        "\n",
        "        # Each epoch has a training and validation phase\n",
        "        for phase in ['train', 'val']:\n",
        "            if phase == 'train':\n",
        "                model.train()  # Set model to training mode\n",
        "            else:\n",
        "                model.eval()   # Set model to evaluate mode\n",
        "\n",
        "            running_loss = 0.0\n",
        "            running_corrects = 0\n",
        "\n",
        "            # Iterate over data.\n",
        "            for batch in dataloaders[phase]:\n",
        "                inputs = batch[\"image\"]\n",
        "                labels = batch[\"target\"]\n",
        "                inputs = inputs.to(device)\n",
        "                labels = labels.to(device)\n",
        "\n",
        "                # zero the parameter gradients\n",
        "                optimizer.zero_grad()\n",
        "\n",
        "                # forward\n",
        "                # track history if only in train\n",
        "                with torch.set_grad_enabled(phase == 'train'):\n",
        "                    outputs = model(inputs)\n",
        "                    _, preds = torch.max(outputs, 1)\n",
        "                    loss = criterion(outputs, labels)\n",
        "\n",
        "                    # backward + optimize only if in training phase\n",
        "                    if phase == 'train':\n",
        "                        loss.backward()\n",
        "                        optimizer.step()\n",
        "\n",
        "                # statistics\n",
        "                running_loss += loss.item() * inputs.size(0)\n",
        "                running_corrects += torch.sum(preds == labels.data)\n",
        "            if phase == 'train':\n",
        "                scheduler.step()\n",
        "\n",
        "            epoch_loss = running_loss / dataset_sizes[phase]\n",
        "            epoch_acc = running_corrects.double() / dataset_sizes[phase]\n",
        "\n",
        "            print('{} Loss: {:.4f} Acc: {:.4f}'.format(\n",
        "                phase, epoch_loss, epoch_acc))\n",
        "\n",
        "            # deep copy the model\n",
        "            if phase == 'val' and epoch_acc > best_acc:\n",
        "                best_acc = epoch_acc\n",
        "                best_model_wts = copy.deepcopy(model.state_dict())\n",
        "\n",
        "        print()\n",
        "\n",
        "    time_elapsed = time.time() - since\n",
        "    print('Training complete in {:.0f}m {:.0f}s'.format(\n",
        "        time_elapsed // 60, time_elapsed % 60))\n",
        "    print('Best val Acc: {:4f}'.format(best_acc))\n",
        "\n",
        "    # load best model weights\n",
        "    model.load_state_dict(best_model_wts)\n",
        "    return model"
      ],
      "execution_count": 73,
      "outputs": []
    },
    {
      "cell_type": "code",
      "metadata": {
        "id": "q6O-Mb9NC2Ia",
        "colab_type": "code",
        "colab": {
          "base_uri": "https://localhost:8080/",
          "height": 890
        },
        "outputId": "6a72bdcc-e4a4-4ca8-9c2c-393f7a8f162f"
      },
      "source": [
        "model_ft = train_model(model_ft, criterion, optimizer_ft, exp_lr_scheduler,\n",
        "                       num_epochs=10)"
      ],
      "execution_count": 74,
      "outputs": [
        {
          "output_type": "stream",
          "text": [
            "Epoch 0/9\n",
            "----------\n",
            "train Loss: 3.6356 Acc: 0.2393\n",
            "val Loss: 1.8698 Acc: 0.5209\n",
            "\n",
            "Epoch 1/9\n",
            "----------\n",
            "train Loss: 1.7605 Acc: 0.5794\n",
            "val Loss: 1.0653 Acc: 0.6999\n",
            "\n",
            "Epoch 2/9\n",
            "----------\n",
            "train Loss: 1.0975 Acc: 0.7383\n",
            "val Loss: 0.7949 Acc: 0.7762\n",
            "\n",
            "Epoch 3/9\n",
            "----------\n",
            "train Loss: 0.7233 Acc: 0.8382\n",
            "val Loss: 0.6143 Acc: 0.8202\n",
            "\n",
            "Epoch 4/9\n",
            "----------\n",
            "train Loss: 0.5021 Acc: 0.8922\n",
            "val Loss: 0.5395 Acc: 0.8435\n",
            "\n",
            "Epoch 5/9\n",
            "----------\n",
            "train Loss: 0.3469 Acc: 0.9304\n",
            "val Loss: 0.4655 Acc: 0.8583\n",
            "\n",
            "Epoch 6/9\n",
            "----------\n",
            "train Loss: 0.2329 Acc: 0.9620\n",
            "val Loss: 0.4192 Acc: 0.8752\n",
            "\n",
            "Epoch 7/9\n",
            "----------\n",
            "train Loss: 0.1349 Acc: 0.9849\n",
            "val Loss: 0.3710 Acc: 0.8934\n",
            "\n",
            "Epoch 8/9\n",
            "----------\n",
            "train Loss: 0.1188 Acc: 0.9892\n",
            "val Loss: 0.3609 Acc: 0.8959\n",
            "\n",
            "Epoch 9/9\n",
            "----------\n",
            "train Loss: 0.1113 Acc: 0.9894\n",
            "val Loss: 0.3570 Acc: 0.8973\n",
            "\n",
            "Training complete in 30m 48s\n",
            "Best val Acc: 0.897335\n"
          ],
          "name": "stdout"
        }
      ]
    },
    {
      "cell_type": "code",
      "metadata": {
        "id": "qS97yABzZccI",
        "colab_type": "code",
        "colab": {}
      },
      "source": [
        ""
      ],
      "execution_count": null,
      "outputs": []
    }
  ]
}